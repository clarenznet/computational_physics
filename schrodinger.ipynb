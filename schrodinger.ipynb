{
  "nbformat": 4,
  "nbformat_minor": 0,
  "metadata": {
    "colab": {
      "name": "schrodinger.ipynb",
      "provenance": [],
      "authorship_tag": "ABX9TyNWX1VxopIJjNQM0jAbN9LS",
      "include_colab_link": true
    },
    "kernelspec": {
      "name": "python3",
      "display_name": "Python 3"
    }
  },
  "cells": [
    {
      "cell_type": "markdown",
      "metadata": {
        "id": "view-in-github",
        "colab_type": "text"
      },
      "source": [
        "<a href=\"https://colab.research.google.com/github/clarenznet/computational_physics/blob/main/schrodinger.ipynb\" target=\"_parent\"><img src=\"https://colab.research.google.com/assets/colab-badge.svg\" alt=\"Open In Colab\"/></a>"
      ]
    },
    {
      "cell_type": "markdown",
      "metadata": {
        "id": "RcgQFJODtKYY"
      },
      "source": [
        "# **Solving the Schrodinger Equation**"
      ]
    },
    {
      "cell_type": "markdown",
      "metadata": {
        "id": "wNzulEBotZPw"
      },
      "source": [
        "### Experession solution *python code*"
      ]
    },
    {
      "cell_type": "code",
      "metadata": {
        "colab": {
          "base_uri": "https://localhost:8080/",
          "height": 281
        },
        "id": "7Q9reFxktgFU",
        "cellView": "code",
        "outputId": "3f36678c-cce4-4541-9284-0c37c361bdf7"
      },
      "source": [
        "#@title tiiyy\n",
        "\"\"\"\n",
        "General Numerical Solver for the 1D Time-Dependent Schrodinger's equation.\n",
        "\n",
        "author: Jake Vanderplas\n",
        "email: vanderplas@astro.washington.edu\n",
        "website: http://jakevdp.github.com\n",
        "license: BSD\n",
        "Please feel free to use and modify this, but keep the above information. Thanks!\n",
        "\"\"\"\n",
        "\n",
        "import numpy as np\n",
        "from matplotlib import pyplot as pl\n",
        "from matplotlib import animation\n",
        "from scipy.fftpack import fft,ifft\n",
        "\n",
        "\n",
        "class Schrodinger(object):\n",
        "    \"\"\"\n",
        "    Class which implements a numerical solution of the time-dependent\n",
        "    Schrodinger equation for an arbitrary potential\n",
        "    \"\"\"\n",
        "    def __init__(self, x, psi_x0, V_x,\n",
        "                 k0 = None, hbar=1, m=1, t0=0.0):\n",
        "        \"\"\"\n",
        "        Parameters\n",
        "        ----------\n",
        "        x : array_like, float\n",
        "            length-N array of evenly spaced spatial coordinates\n",
        "        psi_x0 : array_like, complex\n",
        "            length-N array of the initial wave function at time t0\n",
        "        V_x : array_like, float\n",
        "             length-N array giving the potential at each x\n",
        "        k0 : float\n",
        "            the minimum value of k.  Note that, because of the workings of the\n",
        "            fast fourier transform, the momentum wave-number will be defined\n",
        "            in the range\n",
        "              k0 < k < 2*pi / dx\n",
        "            where dx = x[1]-x[0].  If you expect nonzero momentum outside this\n",
        "            range, you must modify the inputs accordingly.  If not specified,\n",
        "            k0 will be calculated such that the range is [-k0,k0]\n",
        "        hbar : float\n",
        "            value of planck's constant (default = 1)\n",
        "        m : float\n",
        "            particle mass (default = 1)\n",
        "        t0 : float\n",
        "            initial tile (default = 0)\n",
        "        \"\"\"\n",
        "        # Validation of array inputs\n",
        "        self.x, psi_x0, self.V_x = map(np.asarray, (x, psi_x0, V_x))\n",
        "        N = self.x.size\n",
        "        assert self.x.shape == (N,)\n",
        "        assert psi_x0.shape == (N,)\n",
        "        assert self.V_x.shape == (N,)\n",
        "\n",
        "        # Set internal parameters\n",
        "        self.hbar = hbar\n",
        "        self.m = m\n",
        "        self.t = t0\n",
        "        self.dt_ = None\n",
        "        self.N = len(x)\n",
        "        self.dx = self.x[1] - self.x[0]\n",
        "        self.dk = 2 * np.pi / (self.N * self.dx)\n",
        "\n",
        "        # set momentum scale\n",
        "        if k0 == None:\n",
        "            self.k0 = -0.5 * self.N * self.dk\n",
        "        else:\n",
        "            self.k0 = k0\n",
        "        self.k = self.k0 + self.dk * np.arange(self.N)\n",
        "\n",
        "        self.psi_x = psi_x0\n",
        "        self.compute_k_from_x()\n",
        "\n",
        "        # variables which hold steps in evolution of the\n",
        "        self.x_evolve_half = None\n",
        "        self.x_evolve = None\n",
        "        self.k_evolve = None\n",
        "\n",
        "        # attributes used for dynamic plotting\n",
        "        self.psi_x_line = None\n",
        "        self.psi_k_line = None\n",
        "        self.V_x_line = None\n",
        "\n",
        "    def _set_psi_x(self, psi_x):\n",
        "        self.psi_mod_x = (psi_x * np.exp(-1j * self.k[0] * self.x)\n",
        "                          * self.dx / np.sqrt(2 * np.pi))\n",
        "\n",
        "    def _get_psi_x(self):\n",
        "        return (self.psi_mod_x * np.exp(1j * self.k[0] * self.x)\n",
        "                * np.sqrt(2 * np.pi) / self.dx)\n",
        "\n",
        "    def _set_psi_k(self, psi_k):\n",
        "        self.psi_mod_k = psi_k * np.exp(1j * self.x[0]\n",
        "                                        * self.dk * np.arange(self.N))\n",
        "\n",
        "    def _get_psi_k(self):\n",
        "        return self.psi_mod_k * np.exp(-1j * self.x[0] * \n",
        "                                        self.dk * np.arange(self.N))\n",
        "    \n",
        "    def _get_dt(self):\n",
        "        return self.dt_\n",
        "\n",
        "    def _set_dt(self, dt):\n",
        "        if dt != self.dt_:\n",
        "            self.dt_ = dt\n",
        "            self.x_evolve_half = np.exp(-0.5 * 1j * self.V_x\n",
        "                                         / self.hbar * dt )\n",
        "            self.x_evolve = self.x_evolve_half * self.x_evolve_half\n",
        "            self.k_evolve = np.exp(-0.5 * 1j * self.hbar /\n",
        "                                    self.m * (self.k * self.k) * dt)\n",
        "    \n",
        "    psi_x = property(_get_psi_x, _set_psi_x)\n",
        "    psi_k = property(_get_psi_k, _set_psi_k)\n",
        "    dt = property(_get_dt, _set_dt)\n",
        "\n",
        "    def compute_k_from_x(self):\n",
        "        self.psi_mod_k = fft(self.psi_mod_x)\n",
        "\n",
        "    def compute_x_from_k(self):\n",
        "        self.psi_mod_x = ifft(self.psi_mod_k)\n",
        "\n",
        "    def time_step(self, dt, Nsteps = 1):\n",
        "        \"\"\"\n",
        "        Perform a series of time-steps via the time-dependent\n",
        "        Schrodinger Equation.\n",
        "\n",
        "        Parameters\n",
        "        ----------\n",
        "        dt : float\n",
        "            the small time interval over which to integrate\n",
        "        Nsteps : float, optional\n",
        "            the number of intervals to compute.  The total change\n",
        "            in time at the end of this method will be dt * Nsteps.\n",
        "            default is N = 1\n",
        "        \"\"\"\n",
        "        self.dt = dt\n",
        "\n",
        "        if Nsteps > 0:\n",
        "            self.psi_mod_x *= self.x_evolve_half\n",
        "\n",
        "        for i in xrange(Nsteps - 1):\n",
        "            self.compute_k_from_x()\n",
        "            self.psi_mod_k *= self.k_evolve\n",
        "            self.compute_x_from_k()\n",
        "            self.psi_mod_x *= self.x_evolve\n",
        "\n",
        "        self.compute_k_from_x()\n",
        "        self.psi_mod_k *= self.k_evolve\n",
        "\n",
        "        self.compute_x_from_k()\n",
        "        self.psi_mod_x *= self.x_evolve_half\n",
        "\n",
        "        self.compute_k_from_x()\n",
        "\n",
        "        self.t += dt * Nsteps\n",
        "\n",
        "\n",
        "######################################################################\n",
        "# Helper functions for gaussian wave-packets\n",
        "\n",
        "def gauss_x(x, a, x0, k0):\n",
        "    \"\"\"\n",
        "    a gaussian wave packet of width a, centered at x0, with momentum k0\n",
        "    \"\"\" \n",
        "    return ((a * np.sqrt(np.pi)) ** (-0.5)\n",
        "            * np.exp(-0.5 * ((x - x0) * 1. / a) ** 2 + 1j * x * k0))\n",
        "\n",
        "def gauss_k(k,a,x0,k0):\n",
        "    \"\"\"\n",
        "    analytical fourier transform of gauss_x(x), above\n",
        "    \"\"\"\n",
        "    return ((a / np.sqrt(np.pi))**0.5\n",
        "            * np.exp(-0.5 * (a * (k - k0)) ** 2 - 1j * (k - k0) * x0))\n",
        "\n",
        "\n",
        "######################################################################\n",
        "# Utility functions for running the animation\n",
        "\n",
        "def theta(x):\n",
        "    \"\"\"\n",
        "    theta function :\n",
        "      returns 0 if x<=0, and 1 if x>0\n",
        "    \"\"\"\n",
        "    x = np.asarray(x)\n",
        "    y = np.zeros(x.shape)\n",
        "    y[x > 0] = 1.0\n",
        "    return y\n",
        "\n",
        "def square_barrier(x, width, height):\n",
        "    return height * (theta(x) - theta(x - width))\n",
        "\n",
        "######################################################################\n",
        "# Create the animation\n",
        "\n",
        "# specify time steps and duration\n",
        "dt = 0.01\n",
        "N_steps = 50\n",
        "t_max = 120\n",
        "frames = int(t_max / float(N_steps * dt))\n",
        "\n",
        "# specify constants\n",
        "hbar = 1.0   # planck's constant\n",
        "m = 1.9      # particle mass\n",
        "\n",
        "# specify range in x coordinate\n",
        "N = 2 ** 11\n",
        "dx = 0.1\n",
        "x = dx * (np.arange(N) - 0.5 * N)\n",
        "\n",
        "# specify potential\n",
        "V0 = 1.5\n",
        "L = hbar / np.sqrt(2 * m * V0)\n",
        "a = 3 * L\n",
        "x0 = -60 * L\n",
        "V_x = square_barrier(x, a, V0)\n",
        "V_x[x < -98] = 1E6\n",
        "V_x[x > 98] = 1E6\n",
        "\n",
        "# specify initial momentum and quantities derived from it\n",
        "p0 = np.sqrt(2 * m * 0.2 * V0)\n",
        "dp2 = p0 * p0 * 1./80\n",
        "d = hbar / np.sqrt(2 * dp2)\n",
        "\n",
        "k0 = p0 / hbar\n",
        "v0 = p0 / m\n",
        "psi_x0 = gauss_x(x, d, x0, k0)\n",
        "\n",
        "# define the Schrodinger object which performs the calculations\n",
        "S = Schrodinger(x=x,\n",
        "                psi_x0=psi_x0,\n",
        "                V_x=V_x,\n",
        "                hbar=hbar,\n",
        "                m=m,\n",
        "                k0=-28)\n",
        "\n",
        "######################################################################\n",
        "# Set up plot\n",
        "fig = pl.figure()\n",
        "\n",
        "# plotting limits\n",
        "xlim = (-100, 100)\n",
        "klim = (-5, 5)\n",
        "\n",
        "# top axes show the x-space data\n",
        "ymin = 0\n",
        "ymax = V0\n",
        "ax1 = fig.add_subplot(211, xlim=xlim,\n",
        "                      ylim=(ymin - 0.2 * (ymax - ymin),\n",
        "                            ymax + 0.2 * (ymax - ymin)))\n",
        "psi_x_line, = ax1.plot([], [], c='r', label=r'$|\\psi(x)|$')\n",
        "V_x_line, = ax1.plot([], [], c='k', label=r'$V(x)$')\n",
        "center_line = ax1.axvline(0, c='k', ls=':',\n",
        "                          label = r\"$x_0 + v_0t$\")\n",
        "\n",
        "title = ax1.set_title(\"\")\n",
        "ax1.legend(prop=dict(size=12))\n",
        "ax1.set_xlabel('$x$')\n",
        "ax1.set_ylabel(r'$|\\psi(x)|$')\n",
        "\n",
        "# bottom axes show the k-space data\n",
        "ymin = abs(S.psi_k).min()\n",
        "ymax = abs(S.psi_k).max()\n",
        "ax2 = fig.add_subplot(212, xlim=klim,\n",
        "                      ylim=(ymin - 0.2 * (ymax - ymin),\n",
        "                            ymax + 0.2 * (ymax - ymin)))\n",
        "psi_k_line, = ax2.plot([], [], c='r', label=r'$|\\psi(k)|$')\n",
        "\n",
        "p0_line1 = ax2.axvline(-p0 / hbar, c='k', ls=':', label=r'$\\pm p_0$')\n",
        "p0_line2 = ax2.axvline(p0 / hbar, c='k', ls=':')\n",
        "mV_line = ax2.axvline(np.sqrt(2 * V0) / hbar, c='k', ls='--',\n",
        "                      label=r'$\\sqrt{2mV_0}$')\n",
        "ax2.legend(prop=dict(size=12))\n",
        "ax2.set_xlabel('$k$')\n",
        "ax2.set_ylabel(r'$|\\psi(k)|$')\n",
        "\n",
        "V_x_line.set_data(S.x, S.V_x)\n",
        "\n",
        "######################################################################\n",
        "# Animate plot\n",
        "def init():\n",
        "    psi_x_line.set_data([], [])\n",
        "    V_x_line.set_data([], [])\n",
        "    center_line.set_data([], [])\n",
        "\n",
        "    psi_k_line.set_data([], [])\n",
        "    title.set_text(\"\")\n",
        "    return (psi_x_line, V_x_line, center_line, psi_k_line, title)\n",
        "\n",
        "def animate(i):\n",
        "    S.time_step(dt, N_steps)\n",
        "    psi_x_line.set_data(S.x, 4 * abs(S.psi_x))\n",
        "    V_x_line.set_data(S.x, S.V_x)\n",
        "    center_line.set_data(2 * [x0 + S.t * p0 / m], [0, 1])\n",
        "\n",
        "    psi_k_line.set_data(S.k, abs(S.psi_k))\n",
        "    title.set_text(\"t = %.2f\" % S.t)\n",
        "    return (psi_x_line, V_x_line, center_line, psi_k_line, title)\n",
        "\n",
        "# call the animator.  blit=True means only re-draw the parts that have changed.\n",
        "anim = animation.FuncAnimation(fig, animate, init_func=init,\n",
        "                               frames=frames, interval=30, blit=True)\n",
        "\n",
        "\n",
        "# uncomment the following line to save the video in mp4 format.  This\n",
        "# requires either mencoder or ffmpeg to be installed on your system\n",
        "\n",
        "#anim.save('schrodinger_barrier.mp4', fps=15, extra_args=['-vcodec', 'libx264'])\n",
        "\n",
        "pl.show()"
      ],
      "execution_count": null,
      "outputs": [
        {
          "output_type": "display_data",
          "data": {
            "image/png": "[encoded data removed]",
            "text/plain": [
              "<Figure size 432x288 with 2 Axes>"
            ]
          },
          "metadata": {
            "tags": [],
            "needs_background": "light"
          }
        }
      ]
    },
    {
      "cell_type": "markdown",
      "source": [
        "### Numerical Solution to the Schrodinger Equation: An introduction of the Bezel function application.\n",
        "\n",
        "\n"
      ],
      "metadata": {
        "id": "md6dToiJrKzI"
      }
    },
    {
      "cell_type": "markdown",
      "source": [
        "#### Graphical representation to indicate Eigen State."
      ],
      "metadata": {
        "id": "UFzv2eUzt-AF"
      }
    },
    {
      "cell_type": "code",
      "source": [
        "%matplotlib inline\n",
        "\n",
        "from scipy.integrate import odeint\n",
        "import matplotlib.pyplot as plt  \n",
        "import numpy as np\n",
        "\n",
        "\n",
        "mu=1\n",
        "k=1\n",
        "E=.5\n",
        "xmax=-5\n",
        "\n",
        "def psi(y,x):\n",
        "    psi1, psi2_dx2 = y \n",
        "    return [psi2_dx2, ((2*mu)/(-1))*(E*psi1 - (1/2)*x**2*psi1)]\n",
        "\n",
        "x0 = [0.0, 0.1]\n",
        "val = np.linspace(-5,5,101)\n",
        "sol = odeint(psi, x0, val)\n",
        "#plot, legends, and titles \n",
        "plt.plot(val,sol[:,0],color = \"red\",label = \" \")\n",
        "plt.title(\"Wave Function\")\n",
        "leg = plt.legend(title = \"(x)  \", loc = \"center\", bbox_to_anchor=[-.11,.5],frameon=False)\n",
        "\n",
        "plt.show()"
      ],
      "metadata": {
        "colab": {
          "base_uri": "https://localhost:8080/",
          "height": 281
        },
        "id": "WS3g-dKkrgpZ",
        "outputId": "6ed8bda7-1a52-425a-e842-f2b762347a26"
      },
      "execution_count": 1,
      "outputs": [
        {
          "output_type": "display_data",
          "data": {
            "text/plain": [
              "<Figure size 432x288 with 1 Axes>"
            ],
            "image/png": "[encoded data removed]"
          },
          "metadata": {
            "needs_background": "light"
          }
        }
      ]
    },
    {
      "cell_type": "markdown",
      "source": [
        "#### Potential Energy Function"
      ],
      "metadata": {
        "id": "qUhM99FstriP"
      }
    },
    {
      "cell_type": "code",
      "source": [
        "%matplotlib inline  \n",
        "\n",
        "import matplotlib.pyplot as plt\n",
        "import numpy as np\n",
        "import math\n",
        "\n",
        "# initialize constants k and create x array\n",
        "k = 1 \n",
        "x = np.linspace(-5,5,100)\n",
        "\n",
        "# set boundaries\n",
        "plt.xticks([-5,5])\n",
        "plt.yticks([0,5,10,15])\n",
        "\n",
        "# plot\n",
        "plt.plot(x,(.5)*k*(x**2), color = \"red\",label = \" \")\n",
        "\n",
        "# add titles and legend\n",
        "plt.title(\"Potential Energy\")\n",
        "leg = plt.legend(title = \"\\u03A8  \", loc = \"center\", bbox_to_anchor=[-.11,.5],frameon=False)\n",
        "\n",
        "plt.show()"
      ],
      "metadata": {
        "colab": {
          "base_uri": "https://localhost:8080/",
          "height": 281
        },
        "id": "06TWmgnqsZ5f",
        "outputId": "209f10f9-3bca-4716-d283-13c663e5baef"
      },
      "execution_count": 2,
      "outputs": [
        {
          "output_type": "display_data",
          "data": {
            "text/plain": [
              "<Figure size 432x288 with 1 Axes>"
            ],
            "image/png": "[encoded data removed]"
          },
          "metadata": {
            "needs_background": "light"
          }
        }
      ]
    },
    {
      "cell_type": "markdown",
      "source": [
        "\n",
        "### Momentum Space Wavefunction by a Fourier Transform of its Coordinate-Space.\n"
      ],
      "metadata": {
        "id": "TOrvqLFqsbgG"
      }
    },
    {
      "cell_type": "code",
      "source": [
        "%matplotlib inline  \n",
        "\n",
        "import numpy as np\n",
        "import matplotlib.pyplot as plt \n",
        "from scipy.integrate import odeint\n",
        "import scipy.integrate as integrate\n",
        "import math\n",
        "\n",
        "#set constants\n",
        "mu=1\n",
        "k=1\n",
        "E=.5\n",
        "xmax=5\n",
        "\n",
        "#create ode \n",
        "def psi(y,x):\n",
        "    psi1, psi2_dx2 = y \n",
        "    return [psi2_dx2, ((2*mu)/(-1))*(E*psi1 - (1/2)*x**2*psi1)]\n",
        "\n",
        "#create space \n",
        "x0 = [0.0, 0.001]\n",
        "val = np.linspace(-xmax,xmax,101)\n",
        "\n",
        "#solve ode using odeint\n",
        "sol = odeint(psi, x0, val)\n",
        "\n",
        "#format plot\n",
        "fig = plt.figure()\n",
        "ax = fig.add_subplot(1, 1, 1)\n",
        "\n",
        "#show tick marks to the left and lower axes only\n",
        "plt.yticks([])\n",
        "plt.axis(xmin = -4,xmax = 4,ymin = 0,ymax = 30)\n",
        "\n",
        "#move left yaxis passing through origin\n",
        "ax.spines[\"left\"].set_position(\"center\")\n",
        "\n",
        "#eliminate upper and right axes\n",
        "ax.spines[\"right\"].set_color(\"none\")\n",
        "ax.spines[\"top\"].set_color(\"none\")\n",
        "\n",
        "#plot graph\n",
        "plt.plot(val,sol[:,0],color = \"red\",label = \" \")\n",
        "\n",
        "\n",
        "#add titles and legend\n",
        "plt.title(\"Momentum Distribution\")\n",
        "leg = plt.legend(title = \"(|\\u03A6(p)|\\u00b2)\", loc = \"center\", bbox_to_anchor=[-.10,.5],frameon=False)\n",
        "\n",
        "plt.show()"
      ],
      "metadata": {
        "colab": {
          "base_uri": "https://localhost:8080/",
          "height": 281
        },
        "id": "P1LZoHLMtIHF",
        "outputId": "6ecf6b61-b689-4f31-c418-404e650f7bee"
      },
      "execution_count": 3,
      "outputs": [
        {
          "output_type": "display_data",
          "data": {
            "text/plain": [
              "<Figure size 432x288 with 1 Axes>"
            ],
            "image/png": "[encoded data removed]"
          },
          "metadata": {
            "needs_background": "light"
          }
        }
      ]
    }
  ]
}